{
 "cells": [
  {
   "cell_type": "code",
   "execution_count": 1,
   "metadata": {},
   "outputs": [],
   "source": [
    "import os\n",
    "from dotenv import load_dotenv\n",
    "import openai\n",
    "\n",
    "_ = load_dotenv(override=True)"
   ]
  },
  {
   "cell_type": "code",
   "execution_count": 2,
   "metadata": {},
   "outputs": [],
   "source": [
    "os.environ[\"OPENAI_API_KEY\"] = os.getenv(\"OPEN_AI_KEY\")"
   ]
  },
  {
   "cell_type": "markdown",
   "metadata": {},
   "source": [
    "# A - Step By Step"
   ]
  },
  {
   "cell_type": "markdown",
   "metadata": {},
   "source": [
    "1. first, we start by creating the document loader instance for CSV files"
   ]
  },
  {
   "cell_type": "code",
   "execution_count": 15,
   "metadata": {},
   "outputs": [],
   "source": [
    "from langchain.document_loaders import CSVLoader\n",
    "file_path = \"../data/Marvel_Comics.csv\"\n",
    "loader = CSVLoader(\n",
    "    file_path=file_path,\n",
    "    encoding=\"utf8\"\n",
    ")"
   ]
  },
  {
   "cell_type": "markdown",
   "metadata": {},
   "source": [
    "2. then we load the documents of the loader"
   ]
  },
  {
   "cell_type": "code",
   "execution_count": 16,
   "metadata": {},
   "outputs": [],
   "source": [
    "docs = loader.load()"
   ]
  },
  {
   "cell_type": "code",
   "execution_count": 17,
   "metadata": {},
   "outputs": [
    {
     "name": "stdout",
     "output_type": "stream",
     "text": [
      "101\n"
     ]
    },
    {
     "data": {
      "text/plain": [
       "Document(page_content=\": 0\\ncomic_name: A Year of Marvels: April Infinite Comic (2016)\\nissue_description: The Infinite Comic that will have everyone talking! Full of fun, heart, and pranks, this is one folks'll be talking about for years!\", metadata={'source': '../data/Marvel_Comics.csv', 'row': 0})"
      ]
     },
     "execution_count": 17,
     "metadata": {},
     "output_type": "execute_result"
    }
   ],
   "source": [
    "print(len(docs))\n",
    "docs[0]"
   ]
  },
  {
   "cell_type": "markdown",
   "metadata": {},
   "source": [
    "3. The idea is to create an embedding for ech one of them, the embedding is a numeral representation in a vector that has the semantic value of the text\n",
    "\n",
    "![Embeddings](../assets/embeddings.jpg \"Embeddings\")\n"
   ]
  },
  {
   "cell_type": "code",
   "execution_count": 18,
   "metadata": {},
   "outputs": [
    {
     "name": "stdout",
     "output_type": "stream",
     "text": [
      "1536\n"
     ]
    },
    {
     "data": {
      "text/plain": [
       "[-0.000682526733726263,\n",
       " 0.008164625614881516,\n",
       " -0.011010359972715378,\n",
       " -0.020723117515444756,\n",
       " -0.01268696691840887]"
      ]
     },
     "execution_count": 18,
     "metadata": {},
     "output_type": "execute_result"
    }
   ],
   "source": [
    "from langchain.embeddings import OpenAIEmbeddings\n",
    "\n",
    "embeddings = OpenAIEmbeddings()\n",
    "embed = embeddings.embed_query(\"hi, ich bin Cristhian\")\n",
    "\n",
    "print(len(embed))\n",
    "embed[:5]"
   ]
  },
  {
   "cell_type": "markdown",
   "metadata": {},
   "source": [
    "4. The embedding should be performed for every chunk of information in the whole text, In this case, as we have a csv file each row will be a chunk. These embedded chunks will be stored in a Vector Database. So, here we create that vector database, to place every embedding of the documents:\n",
    "\n",
    "![verctorDatabase](../assets/verctorDatabase.jpg \"verctorDatabase\")\n",
    "\n",
    "\n"
   ]
  },
  {
   "cell_type": "code",
   "execution_count": 19,
   "metadata": {},
   "outputs": [],
   "source": [
    "from langchain.vectorstores import DocArrayInMemorySearch\n",
    "vectorDB = DocArrayInMemorySearch.from_documents(\n",
    "    documents=docs,\n",
    "    embedding=embeddings\n",
    ")"
   ]
  },
  {
   "cell_type": "markdown",
   "metadata": {},
   "source": [
    "5. Now we can query something regarding the new documents in the LLM, this is done by embedding the input query adn then comparing thar embed with the ones in the Vector Database\n",
    "\n",
    "![index](../assets/index.jpg \"index\")"
   ]
  },
  {
   "cell_type": "code",
   "execution_count": 20,
   "metadata": {},
   "outputs": [
    {
     "name": "stdout",
     "output_type": "stream",
     "text": [
      "4\n"
     ]
    },
    {
     "data": {
      "text/plain": [
       "Document(page_content=\": 85\\ncomic_name: Actor Presents Spider-Man and the Incredible Hulk (2003)\\nissue_description: Marvel Comics and A.C.T.O.R. team up to bring you two stories about Marvel's most popular characters in this special one-shot benefit book for the holiday season. Proceeds from this book benefit A.C.T.O.R., the charitable organization dedicated to providing financial assistance to disadvantaged comic book creators. 32 PGS./MARVEL PSR...$2.50\", metadata={'source': '../data/Marvel_Comics.csv', 'row': 85})"
      ]
     },
     "execution_count": 20,
     "metadata": {},
     "output_type": "execute_result"
    }
   ],
   "source": [
    "query = \"Please suggest Spider-Man comics\"\n",
    "result_docs = vectorDB.similarity_search(query)\n",
    "\n",
    "print(len(result_docs))\n",
    "result_docs[0]"
   ]
  },
  {
   "cell_type": "markdown",
   "metadata": {},
   "source": [
    "6. The result vectors that are similar are retrieved for the LLM to take into account to process te Prompt for the result, so we first neet the LLM\n",
    "\n",
    "![processWithLLMs](../assets/processWithLLMs.jpg \"processWithLLMs\")"
   ]
  },
  {
   "cell_type": "code",
   "execution_count": 21,
   "metadata": {},
   "outputs": [
    {
     "name": "stderr",
     "output_type": "stream",
     "text": [
      "WARNING! api_key is not default parameter.\n",
      "                    api_key was transferred to model_kwargs.\n",
      "                    Please confirm that api_key is what you intended.\n"
     ]
    }
   ],
   "source": [
    "from langchain.chat_models import ChatOpenAI\n",
    "\n",
    "llm = ChatOpenAI(\n",
    "    api_key = os.getenv(\"OPEN_AI_KEY\"),\n",
    "    model = os.getenv(\"LLM_MODEL\"),\n",
    "    temperature=0.0\n",
    ")"
   ]
  },
  {
   "cell_type": "markdown",
   "metadata": {},
   "source": [
    "7. then, we join all documents result from the similarity search as texts"
   ]
  },
  {
   "cell_type": "code",
   "execution_count": 22,
   "metadata": {},
   "outputs": [
    {
     "name": "stdout",
     "output_type": "stream",
     "text": [
      ": 85\n",
      "comic_name: Actor Presents Spider-Man and the Incredible Hulk (2003)\n",
      "issue_description: Marvel Comics and A.C.T.O.R. team up to bring you two stories about Marvel's most popular characters in this special one-shot benefit book for the holiday season. Proceeds from this book benefit A.C.T.O.R., the charitable organization dedicated to providing financial assistance to disadvantaged comic book creators. 32 PGS./MARVEL PSR...$2.50\n",
      ": 29\n",
      "comic_name: A+X (2012 - 2014)\n",
      "issue_description: Spider-Man and Beast fight zombies, while Iron Man, Kitty Pryde, and Lockheed battle the Brood!\n",
      ": 22\n",
      "comic_name: A+X (2012 - 2014)\n",
      "issue_description: SPIDER-WOMAN & KITTY PRYDE (with Lockheed in tow, of course) investigate some unfinished alien business! Adam Warren returns to Marvel with an amazing short story so chock full of awesome that we can't even attempt to sum it up in one sentence!\n",
      ": 2\n",
      "comic_name: A Year of Marvels: February Infinite Comic (2016)\n",
      "issue_description: Join us in a brand new Marvel comics adventure as your favorite heroes journey through the calendar year one month at a time! It’s February and Peter Parker’s got a hot date, but the old Parker luck hits hard…and so does the bank-robbing villain The Vulture! It’s a tale of romance, adventure, and punching!\n"
     ]
    }
   ],
   "source": [
    "qdocs = \"\\n\".join([doc.page_content for doc in result_docs])\n",
    "print(qdocs)"
   ]
  },
  {
   "cell_type": "markdown",
   "metadata": {},
   "source": [
    "8. create prompt and ask the LLM using only the result_docs"
   ]
  },
  {
   "cell_type": "code",
   "execution_count": 23,
   "metadata": {},
   "outputs": [],
   "source": [
    "response = llm.call_as_llm(f\"{qdocs} Question: Please list all your \\\n",
    "Spider-Man comics in a table in markdown and summarize each one.\")"
   ]
  },
  {
   "cell_type": "code",
   "execution_count": null,
   "metadata": {},
   "outputs": [
    {
     "data": {
      "text/markdown": [
       "| Comic Name                                    | Issue Description                                                                                                      |\n",
       "|-----------------------------------------------|-----------------------------------------------------------------------------------------------------------------------|\n",
       "| Actor Presents Spider-Man and the Incredible Hulk (2003) | Marvel Comics and A.C.T.O.R. team up to bring you two stories about Marvel's most popular characters in this special one-shot benefit book for the holiday season. Proceeds from this book benefit A.C.T.O.R., the charitable organization dedicated to providing financial assistance to disadvantaged comic book creators. 32 PGS./MARVEL PSR...$2.50 |\n",
       "| A+X (2012 - 2014)                             | Spider-Man and Beast fight zombies, while Iron Man, Kitty Pryde, and Lockheed battle the Brood!                             |\n",
       "| A+X (2012 - 2014)                             | SPIDER-WOMAN & KITTY PRYDE (with Lockheed in tow, of course) investigate some unfinished alien business! Adam Warren returns to Marvel with an amazing short story so chock full of awesome that we can't even attempt to sum it up in one sentence! |\n",
       "| A+X (2012 - 2014)                             | CAPTAIN AMERICA + CYCLOPS continue their quest to root out Cadre K! Plus: Two former villains...SUPERIOR SPIDER-MAN + MAGNETO! Max Bemis of the band Say Anything makes his Marvel Comics writing debut!                                                                                                      |\n",
       "\n",
       "1. **Actor Presents Spider-Man and the Incredible Hulk (2003):**\n",
       "   - Description: Marvel Comics and A.C.T.O.R. team up to bring you two stories about Marvel's most popular characters in this special one-shot benefit book for the holiday season. Proceeds from this book benefit A.C.T.O.R., the charitable organization dedicated to providing financial assistance to disadvantaged comic book creators.\n",
       "   - Price: $2.50\n",
       "\n",
       "2. **A+X (2012 - 2014):**\n",
       "   - Description: Spider-Man and Beast fight zombies, while Iron Man, Kitty Pryde, and Lockheed battle the Brood!\n",
       "\n",
       "3. **A+X (2012 - 2014):**\n",
       "   - Description: SPIDER-WOMAN & KITTY PRYDE (with Lockheed in tow, of course) investigate some unfinished alien business! Adam Warren returns to Marvel with an amazing short story so chock full of awesome that we can't even attempt to sum it up in one sentence!\n",
       "\n",
       "4. **A+X (2012 - 2014):**\n",
       "   - Description: CAPTAIN AMERICA + CYCLOPS continue their quest to root out Cadre K! Plus: Two former villains...SUPERIOR SPIDER-MAN + MAGNETO! Max Bemis of the band Say Anything makes his Marvel Comics writing debut!"
      ],
      "text/plain": [
       "<IPython.core.display.Markdown object>"
      ]
     },
     "metadata": {},
     "output_type": "display_data"
    }
   ],
   "source": [
    "from IPython.display import display, Markdown\n",
    "display(Markdown(response))"
   ]
  },
  {
   "cell_type": "markdown",
   "metadata": {},
   "source": [
    "# B - Encapsulated with a retriever:"
   ]
  },
  {
   "cell_type": "markdown",
   "metadata": {},
   "source": [
    "1. first, we start by creating the document loader instance for CSV files and load them"
   ]
  },
  {
   "cell_type": "code",
   "execution_count": null,
   "metadata": {},
   "outputs": [],
   "source": [
    "from langchain.document_loaders import CSVLoader\n",
    "file_path = \"../data/Marvel_Comics.csv\"\n",
    "loader = CSVLoader(\n",
    "    file_path=file_path,\n",
    "    encoding=\"utf8\"\n",
    ")\n",
    "\n",
    "docs = loader.load()"
   ]
  },
  {
   "cell_type": "markdown",
   "metadata": {},
   "source": [
    "2. Create the embedding instance"
   ]
  },
  {
   "cell_type": "code",
   "execution_count": null,
   "metadata": {},
   "outputs": [],
   "source": [
    "from langchain.embeddings import OpenAIEmbeddings\n",
    "embeddings = OpenAIEmbeddings()"
   ]
  },
  {
   "cell_type": "markdown",
   "metadata": {},
   "source": [
    "3. Then, we create the Vector Database with the documents and the embedding instance"
   ]
  },
  {
   "cell_type": "code",
   "execution_count": null,
   "metadata": {},
   "outputs": [],
   "source": [
    "from langchain.vectorstores import DocArrayInMemorySearch\n",
    "vectorDB = DocArrayInMemorySearch.from_documents(\n",
    "    documents=docs,\n",
    "    embedding=embeddings\n",
    ")"
   ]
  },
  {
   "cell_type": "markdown",
   "metadata": {},
   "source": [
    "4. Create a Retriever (generic interface, that takes query and returns documents), it is based on the original vector store with all documents as embeds"
   ]
  },
  {
   "cell_type": "code",
   "execution_count": null,
   "metadata": {},
   "outputs": [],
   "source": [
    "retriever = vectorDB.as_retriever()"
   ]
  },
  {
   "cell_type": "markdown",
   "metadata": {},
   "source": [
    "5. Instatiate the LLM and instantiate the Chain for QnA using the retriever and the LLM"
   ]
  },
  {
   "cell_type": "code",
   "execution_count": null,
   "metadata": {},
   "outputs": [],
   "source": [
    "from langchain.chat_models import ChatOpenAI\n",
    "from langchain.chains import RetrievalQA\n",
    "\n",
    "llm = ChatOpenAI(\n",
    "    api_key = os.getenv(\"OPEN_AI_KEY\"),\n",
    "    model = os.getenv(\"LLM_MODEL\"),\n",
    "    temperature=0.0\n",
    ")\n",
    "\n",
    "qa = RetrievalQA.from_chain_type(\n",
    "    llm=llm,\n",
    "    chain_type=\"stuff\",\n",
    "    retriever=retriever,\n",
    "    verbose=True\n",
    ")"
   ]
  },
  {
   "cell_type": "markdown",
   "metadata": {},
   "source": [
    "`chain_type` is used for telling the chain how to join the documents chunks:\n",
    "- `stuff` tipe will join everything (concatenate) and pass it to the prompt\n",
    "- `map_reduce`: sumarize each chunk and add them together\n",
    "- `refine`: summarize based on previous chunk adding them together gradually (more time consumming)\n",
    "- `map_rerank`: like `map_reduce` but add a ranking for the responses joining the highest scores for the prompt\n",
    "\n",
    "![chain_type](../assets/chain_type.jpg \"chain_type\")"
   ]
  },
  {
   "cell_type": "markdown",
   "metadata": {},
   "source": [
    "6. run the prompt using the chain for QnA"
   ]
  },
  {
   "cell_type": "code",
   "execution_count": null,
   "metadata": {},
   "outputs": [
    {
     "name": "stdout",
     "output_type": "stream",
     "text": [
      "\n",
      "\n",
      "\u001b[1m> Entering new RetrievalQA chain...\u001b[0m\n",
      "\n",
      "\u001b[1m> Finished chain.\u001b[0m\n"
     ]
    },
    {
     "data": {
      "text/markdown": [
       "| Issue | Comic Name                                        | Summary                                                                                                                         |\n",
       "|-------|--------------------------------------------------|---------------------------------------------------------------------------------------------------------------------------------|\n",
       "| 85    | Actor Presents Spider-Man and the Incredible Hulk | A special one-shot benefit book for the holiday season. Proceeds from this book support A.C.T.O.R., a charitable organization.    |\n",
       "| 29    | A+X                                              | Spider-Man and Beast fight zombies, while Iron Man, Kitty Pryde, and Lockheed battle the Brood!                                 |\n",
       "| 2     | A Year of Marvels: February Infinite Comic        | Peter Parker's hot date gets interrupted by the bank-robbing villain The Vulture. It's a tale of romance, adventure, and punching! |\n",
       "| 22    | A+X                                              | Spider-Woman and Kitty Pryde, along with Lockheed, investigate unfinished alien business.                                        |\n",
       "\n",
       "Please note that the summaries provided are brief and may not capture all the details of each comic."
      ],
      "text/plain": [
       "<IPython.core.display.Markdown object>"
      ]
     },
     "metadata": {},
     "output_type": "display_data"
    }
   ],
   "source": [
    "from IPython.display import display, Markdown\n",
    "\n",
    "query =  \"Please list all your Spider-Man comics in a table \\\n",
    "in markdown and summarize each one.\"\n",
    "\n",
    "response = qa.run(query)\n",
    "display(Markdown(response))"
   ]
  },
  {
   "cell_type": "markdown",
   "metadata": {},
   "source": [
    "# C - The more encapsulated way with Index"
   ]
  },
  {
   "cell_type": "markdown",
   "metadata": {},
   "source": [
    "1. create the Embedding"
   ]
  },
  {
   "cell_type": "code",
   "execution_count": 3,
   "metadata": {},
   "outputs": [],
   "source": [
    "from langchain.embeddings import OpenAIEmbeddings\n",
    "embeddings = OpenAIEmbeddings(\n",
    "    openai_api_key = os.getenv(\"OPEN_AI_KEY\")\n",
    ")"
   ]
  },
  {
   "cell_type": "markdown",
   "metadata": {},
   "source": [
    "2. Create the loader for the CSV file"
   ]
  },
  {
   "cell_type": "code",
   "execution_count": 4,
   "metadata": {},
   "outputs": [],
   "source": [
    "from langchain.document_loaders import CSVLoader\n",
    "file_path = \"../data/Marvel_Comics.csv\"\n",
    "loader = CSVLoader(\n",
    "    file_path=file_path,\n",
    "    encoding=\"utf8\"\n",
    ")"
   ]
  },
  {
   "cell_type": "markdown",
   "metadata": {},
   "source": [
    "3. create an index based on the vector Store and using the embeddings, this will use the VectorStore and the Embeddings, and we will pass the loaders right to it"
   ]
  },
  {
   "cell_type": "code",
   "execution_count": 5,
   "metadata": {},
   "outputs": [],
   "source": [
    "from langchain.vectorstores import DocArrayInMemorySearch # helps to avoid using an external DB\n",
    "from langchain.indexes import VectorstoreIndexCreator\n",
    "\n",
    "index = VectorstoreIndexCreator(\n",
    "    vectorstore_cls=DocArrayInMemorySearch,\n",
    "    embedding=embeddings\n",
    ").from_loaders([loader]) # add chain_type=\"stuff\" for langchain >= 0.3.0"
   ]
  },
  {
   "cell_type": "markdown",
   "metadata": {},
   "source": [
    "4. Query using the LLM and the RetrievalQA Chain"
   ]
  },
  {
   "cell_type": "code",
   "execution_count": 6,
   "metadata": {},
   "outputs": [
    {
     "name": "stderr",
     "output_type": "stream",
     "text": [
      "WARNING! api_key is not default parameter.\n",
      "                    api_key was transferred to model_kwargs.\n",
      "                    Please confirm that api_key is what you intended.\n"
     ]
    },
    {
     "name": "stdout",
     "output_type": "stream",
     "text": [
      "\n",
      "\n",
      "\u001b[1m> Entering new RetrievalQA chain...\u001b[0m\n",
      "\n",
      "\u001b[1m> Finished chain.\u001b[0m\n"
     ]
    }
   ],
   "source": [
    "from langchain.chat_models import ChatOpenAI\n",
    "from langchain.chains import RetrievalQA\n",
    "\n",
    "llm = ChatOpenAI(\n",
    "    api_key = os.getenv(\"OPEN_AI_KEY\"),\n",
    "    model = os.getenv(\"LLM_MODEL\"),\n",
    "    temperature=0.0\n",
    ")\n",
    "\n",
    "qa = RetrievalQA.from_chain_type(\n",
    "    llm=llm, \n",
    "    chain_type=\"stuff\", \n",
    "    retriever=index.vectorstore.as_retriever(), \n",
    "    verbose=True,\n",
    ")\n",
    "\n",
    "query =  \"Please list all your Spider-Man comics in a table \\\n",
    "in markdown and summarize each one.\"\n",
    "response = qa.run(query)"
   ]
  },
  {
   "cell_type": "code",
   "execution_count": 7,
   "metadata": {},
   "outputs": [
    {
     "data": {
      "text/markdown": [
       "| Issue | Comic Name                                     | Summary                                                                                                 |\n",
       "|-------|------------------------------------------------|---------------------------------------------------------------------------------------------------------|\n",
       "| 85    | Actor Presents Spider-Man and the Incredible Hulk (2003) | A special one-shot benefit book for the holiday season featuring two stories about Spider-Man and the Incredible Hulk. Proceeds from this book benefit A.C.T.O.R., a charitable organization for disadvantaged comic book creators. |\n",
       "| 29    | A+X (2012 - 2014)                             | Spider-Man and Beast fight zombies, while Iron Man, Kitty Pryde, and Lockheed battle the Brood!          |\n",
       "| 2     | A Year of Marvels: February Infinite Comic (2016) | Peter Parker's hot date is interrupted by the bank-robbing villain The Vulture. A tale of romance, adventure, and punching! |\n",
       "| 22    | A+X (2012 - 2014)                             | Spider-Woman and Kitty Pryde, with Lockheed, investigate unfinished alien business in an amazing short story by Adam Warren. |\n",
       "\n",
       "Note: These are just a few Spider-Man comics mentioned in the given context. There may be more Spider-Man comics not mentioned here."
      ],
      "text/plain": [
       "<IPython.core.display.Markdown object>"
      ]
     },
     "metadata": {},
     "output_type": "display_data"
    }
   ],
   "source": [
    "from IPython.display import display, Markdown\n",
    "display(Markdown(response))"
   ]
  }
 ],
 "metadata": {
  "kernelspec": {
   "display_name": ".venv",
   "language": "python",
   "name": "python3"
  },
  "language_info": {
   "codemirror_mode": {
    "name": "ipython",
    "version": 3
   },
   "file_extension": ".py",
   "mimetype": "text/x-python",
   "name": "python",
   "nbconvert_exporter": "python",
   "pygments_lexer": "ipython3",
   "version": "3.9.6"
  }
 },
 "nbformat": 4,
 "nbformat_minor": 2
}
