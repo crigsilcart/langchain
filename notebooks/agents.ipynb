{
 "cells": [
  {
   "cell_type": "code",
   "execution_count": 1,
   "metadata": {},
   "outputs": [],
   "source": [
    "import os\n",
    "from dotenv import load_dotenv\n",
    "import openai\n",
    "\n",
    "_ = load_dotenv(override=True)"
   ]
  },
  {
   "cell_type": "code",
   "execution_count": 2,
   "metadata": {},
   "outputs": [],
   "source": [
    "from langchain.chat_models import ChatOpenAI\n",
    "\n",
    "llm = ChatOpenAI(\n",
    "    api_key = os.getenv(\"OPEN_AI_KEY\"),\n",
    "    model = os.getenv(\"LLM_MODEL\"),\n",
    "    temperature=0.0\n",
    ")"
   ]
  },
  {
   "cell_type": "markdown",
   "metadata": {},
   "source": [
    "Tools for qagent"
   ]
  },
  {
   "cell_type": "code",
   "execution_count": 6,
   "metadata": {},
   "outputs": [],
   "source": [
    "from langchain.agents import load_tools, initialize_agent, AgentType\n",
    "\n",
    "tools = load_tools([\"llm-math\", \"wikipedia\"], llm = llm)"
   ]
  },
  {
   "cell_type": "markdown",
   "metadata": {},
   "source": [
    "initialize Agent and ask a mathematical question"
   ]
  },
  {
   "cell_type": "code",
   "execution_count": 9,
   "metadata": {},
   "outputs": [
    {
     "name": "stdout",
     "output_type": "stream",
     "text": [
      "\n",
      "\n",
      "\u001b[1m> Entering new AgentExecutor chain...\u001b[0m\n",
      "\u001b[32;1m\u001b[1;3mTo find the derivative of the function \\(f(x) = \\frac{x^2}{2} + x\\), we can use the power rule and the sum rule of differentiation. The power rule states that the derivative of \\(x^n\\) is \\(nx^{n-1}\\), and the sum rule states that the derivative of the sum of two functions is the sum of their derivatives.\n",
      "\n",
      "So, let's find the derivative of each term separately:\n",
      "\n",
      "\\(\\frac{d}{dx} \\left(\\frac{x^2}{2}\\right) = \\frac{1}{2} \\cdot 2x = x\\)\n",
      "\n",
      "\\(\\frac{d}{dx} (x) = 1\\)\n",
      "\n",
      "Now, we can add the derivatives together:\n",
      "\n",
      "\\(\\frac{d}{dx} \\left(\\frac{x^2}{2} + x\\right) = x + 1\\)\n",
      "\n",
      "To evaluate this derivative at \\(x = 2\\), we substitute \\(x = 2\\) into the derivative:\n",
      "\n",
      "\\(x + 1 = 2 + 1 = 3\\)\n",
      "\n",
      "Final Answer: The derivative of \\(f(x) = \\frac{x^2}{2} + x\\) evaluated at \\(x = 2\\) is 3.\u001b[0m\n",
      "\n",
      "\u001b[1m> Finished chain.\u001b[0m\n"
     ]
    },
    {
     "data": {
      "text/plain": [
       "{'input': 'What is derivative of x^2/2 + x evaluated in 2?',\n",
       " 'output': 'The derivative of \\\\(f(x) = \\\\frac{x^2}{2} + x\\\\) evaluated at \\\\(x = 2\\\\) is 3.'}"
      ]
     },
     "execution_count": 9,
     "metadata": {},
     "output_type": "execute_result"
    }
   ],
   "source": [
    "agent = initialize_agent(\n",
    "    tools=tools,\n",
    "    llm=llm,\n",
    "    agent=AgentType.CHAT_ZERO_SHOT_REACT_DESCRIPTION,\n",
    "    handle_parsing_errors=True,\n",
    "    verbose=True\n",
    ")\n",
    "\n",
    "agent(\"What is derivative of x^2/2 + x evaluated in 2?\")"
   ]
  },
  {
   "cell_type": "markdown",
   "metadata": {},
   "source": [
    "No a wikipedia question"
   ]
  },
  {
   "cell_type": "code",
   "execution_count": 12,
   "metadata": {},
   "outputs": [
    {
     "name": "stdout",
     "output_type": "stream",
     "text": [
      "\n",
      "\n",
      "\u001b[1m> Entering new AgentExecutor chain...\u001b[0m\n",
      "\u001b[32;1m\u001b[1;3mQuestion: Which bands has Tom Morello been a part of?\n",
      "Thought: I can use Wikipedia to find information about Tom Morello's bands.\n",
      "Action:\n",
      "```\n",
      "{\n",
      "  \"action\": \"Wikipedia\",\n",
      "  \"action_input\": \"Tom Morello\"\n",
      "}\n",
      "```\u001b[0m\n",
      "Observation: \u001b[33;1m\u001b[1;3mPage: Tom Morello\n",
      "Summary: Thomas Baptist Morello (born May 30, 1964) is an American guitarist, singer, songwriter, and political activist. He is best known for his tenure with the rock bands Rage Against the Machine and Audioslave. Between 2016 and 2019, Morello was a member of the supergroup Prophets of Rage. Morello was a touring musician with Bruce Springsteen and the E Street Band. Under the moniker the Nightwatchman Morello released his solo work. Together with Boots Riley, he formed Street Sweeper Social Club. Morello co-founded Axis of Justice, which airs a monthly program on Pacifica Radio station KPFK (90.7 FM) in Los Angeles.\n",
      "Born in Harlem, New York, and raised in Libertyville, Illinois, Morello became interested in music and politics while in high school. He attended Harvard University and earned a Bachelor of Arts degree from the Committee on Degrees in Social Studies. After his previous band Lock Up disbanded, Morello met Zack de la Rocha. The two founded Rage Against the Machine, going on to become one of the more popular and influential rock acts of the 1990s.\n",
      "He is best known for his unique and creative guitar playing style, which incorporates feedback noise, unconventional picking, and tapping, as well as heavy use of guitar effects. Morello is known for his socialist political views and activism; creating the Nightwatchman offered an outlet for his views while playing apolitical music with Audioslave. He was ranked number 19 in Rolling Stone magazine's list of greatest guitarist of all time.\n",
      "\n",
      "Page: Tom Morello discography\n",
      "Summary: This is the discography of Tom Morello, an American rock guitarist most known for his work with the bands Rage Against the Machine, Audioslave, Street Sweeper Social Club and as his folk alter-ego The Nightwatchman. Morello started playing guitar in the mid 80's in the band Electric Sheep together with future Tool guitarist Adam Jones on bass. After graduating cum laude from Harvard University in 1986 with a BA in political science, he moved to Los Angeles, where he briefly worked as an aide to Senator Alan Cranston. Later Adam Jones moved to L.A. as well; Morello introduced Jones and Maynard James Keenan to Danny Carey, who would come to form the band Tool. In the late 80's Morello was recruited to replace original guitar player Mike Livingston in the rock band Lock Up. In 1989 the band released its only album Something Bitchin' This Way Comes. In 1991, Morello left Lock Up to start a new band. After being impressed by Zack de la Rocha freestyle rapping, he invited him to join. He also recruited Brad Wilk, who had previously auditioned as a drummer for Lock Up. Zack convinced his childhood friend Tim Commerford to join as the band's bass player.\n",
      "Rage Against the Machine released their self-titled debut album Rage Against the Machine in 1992, which became a commercial success, leading to a slot at Lollapalooza in 1993. Four years later the band released their follow-up record Evil Empire. The band's third album The Battle of Los Angeles was released in 1999. During their initial nine-year run, they became one of the most popular and influential political bands in contemporary music. After the band break up in 2000, the band released their fourth studio album Renegades, which is composed entirely of cover songs. Vocalist Zack de la Rocha started a low-key solo career; while Morello and the rest of the band formed the rock supergroup Audioslave with former Soundgarden frontman Chris Cornell.\n",
      "Audioslave released their self-titled debut album in 2002, critics initially described Audioslave as an amalgamation of Rage Against the Machine and Soundgarden, but with the band's second album, Out of Exile, noted that the band had established its own separate identity. The band's trademark sound was created by blending 1970s hard rock with 1990s grunge. Morello also incorporated his well-known, unconventional guitar solos into the band's sound. After Audioslave released three successful album\u001b[0m\n",
      "Thought:\u001b[32;1m\u001b[1;3mTom Morello has been a part of several bands throughout his career. He is best known for his tenure with the rock bands Rage Against the Machine and Audioslave. He was also a member of the supergroup Prophets of Rage from 2016 to 2019. Additionally, Morello has been a touring musician with Bruce Springsteen and the E Street Band. He has released solo work under the moniker the Nightwatchman and formed the band Street Sweeper Social Club with Boots Riley. Morello has also co-founded Axis of Justice, a political activism group. \n",
      "\n",
      "Final Answer: Tom Morello has been a part of Rage Against the Machine, Audioslave, Prophets of Rage, Bruce Springsteen and the E Street Band, the Nightwatchman (solo work), and Street Sweeper Social Club.\u001b[0m\n",
      "\n",
      "\u001b[1m> Finished chain.\u001b[0m\n"
     ]
    }
   ],
   "source": [
    "question = \"Tom Morello is an guitarrist which bands had he been part of?\"\n",
    "result = agent(question) "
   ]
  },
  {
   "cell_type": "markdown",
   "metadata": {},
   "source": [
    "# Custom Tool"
   ]
  },
  {
   "cell_type": "code",
   "execution_count": 14,
   "metadata": {},
   "outputs": [],
   "source": [
    "from langchain.agents import tool\n",
    "from datetime import date"
   ]
  },
  {
   "cell_type": "code",
   "execution_count": 15,
   "metadata": {},
   "outputs": [],
   "source": [
    "@tool\n",
    "def time(text: str) -> str:\n",
    "    \"\"\"Returns todays date, use this for any \\\n",
    "    questions related to knowing todays date. \\\n",
    "    The input should always be an empty string, \\\n",
    "    and this function will always return todays \\\n",
    "    date - any date mathmatics should occur \\\n",
    "    outside this function.\"\"\"\n",
    "    return str(date.today())"
   ]
  },
  {
   "cell_type": "code",
   "execution_count": 16,
   "metadata": {},
   "outputs": [],
   "source": [
    "agent= initialize_agent(\n",
    "    tools + [time], \n",
    "    llm, \n",
    "    agent=AgentType.CHAT_ZERO_SHOT_REACT_DESCRIPTION,\n",
    "    handle_parsing_errors=True,\n",
    "    verbose = True)"
   ]
  },
  {
   "cell_type": "code",
   "execution_count": 17,
   "metadata": {},
   "outputs": [
    {
     "name": "stdout",
     "output_type": "stream",
     "text": [
      "\n",
      "\n",
      "\u001b[1m> Entering new AgentExecutor chain...\u001b[0m\n",
      "\u001b[32;1m\u001b[1;3mQuestion: What's the date today?\n",
      "Thought: I can use the `time` tool to get the current date.\n",
      "Action:\n",
      "```\n",
      "{\n",
      "  \"action\": \"time\",\n",
      "  \"action_input\": \"\"\n",
      "}\n",
      "```\n",
      "\u001b[0m\n",
      "Observation: \u001b[38;5;200m\u001b[1;3m2023-11-10\u001b[0m\n",
      "Thought:\u001b[32;1m\u001b[1;3mCould not parse LLM output: I now know the final answer.\u001b[0m\n",
      "Observation: Invalid or incomplete response\n",
      "Thought:\u001b[32;1m\u001b[1;3mI made a mistake in my previous response. I apologize for the confusion. Let me correct it and provide the final answer.\n",
      "\n",
      "Question: What's the date today?\n",
      "Thought: I can use the `time` tool to get the current date.\n",
      "Action:\n",
      "```\n",
      "{\n",
      "  \"action\": \"time\",\n",
      "  \"action_input\": \"\"\n",
      "}\n",
      "```\n",
      "\n",
      "\u001b[0m\n",
      "Observation: \u001b[38;5;200m\u001b[1;3m2023-11-10\u001b[0m\n",
      "Thought:\u001b[32;1m\u001b[1;3mI now know the final answer.\n",
      "Final Answer: The date today is 2023-11-10.\u001b[0m\n",
      "\n",
      "\u001b[1m> Finished chain.\u001b[0m\n"
     ]
    }
   ],
   "source": [
    "result = agent(\"whats the date today?\")"
   ]
  }
 ],
 "metadata": {
  "kernelspec": {
   "display_name": ".venv",
   "language": "python",
   "name": "python3"
  },
  "language_info": {
   "codemirror_mode": {
    "name": "ipython",
    "version": 3
   },
   "file_extension": ".py",
   "mimetype": "text/x-python",
   "name": "python",
   "nbconvert_exporter": "python",
   "pygments_lexer": "ipython3",
   "version": "3.9.6"
  }
 },
 "nbformat": 4,
 "nbformat_minor": 2
}
