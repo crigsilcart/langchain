{
 "cells": [
  {
   "cell_type": "code",
   "execution_count": 1,
   "metadata": {},
   "outputs": [],
   "source": [
    "import os\n",
    "from dotenv import load_dotenv\n",
    "import openai\n",
    "\n",
    "_ = load_dotenv(override=True)"
   ]
  },
  {
   "cell_type": "markdown",
   "metadata": {},
   "source": [
    "# LLM Chain"
   ]
  },
  {
   "cell_type": "code",
   "execution_count": 7,
   "metadata": {},
   "outputs": [],
   "source": [
    "from langchain.chat_models import ChatOpenAI\n",
    "from langchain.prompts import ChatPromptTemplate\n",
    "from langchain.chains import LLMChain"
   ]
  },
  {
   "cell_type": "code",
   "execution_count": 5,
   "metadata": {},
   "outputs": [
    {
     "data": {
      "text/plain": [
       "'DataStories'"
      ]
     },
     "execution_count": 5,
     "metadata": {},
     "output_type": "execute_result"
    }
   ],
   "source": [
    "llm = ChatOpenAI(\n",
    "    api_key = os.getenv(\"OPEN_AI_KEY\"),\n",
    "    model = os.getenv(\"LLM_MODEL\")\n",
    ")\n",
    "\n",
    "prompt = ChatPromptTemplate.from_template(\n",
    "    \"What is the best name to describe a company that makes {product}\"\n",
    ")\n",
    "\n",
    "chain = LLMChain(llm=llm, prompt=prompt)\n",
    "\n",
    "product = \"podcast about data science in typical real life scenarios\"\n",
    "chain.run(product)"
   ]
  },
  {
   "cell_type": "markdown",
   "metadata": {},
   "source": [
    "# Sequential Chain\n",
    "Comine multiple Chains where the **output** of one chain is the **input** of another"
   ]
  },
  {
   "cell_type": "markdown",
   "metadata": {},
   "source": [
    "## 1) Simple Sequential Chain\n",
    "Single Input Single output"
   ]
  },
  {
   "cell_type": "code",
   "execution_count": 6,
   "metadata": {},
   "outputs": [],
   "source": [
    "from langchain.chat_models import ChatOpenAI\n",
    "from langchain.prompts import ChatPromptTemplate\n",
    "from langchain.chains import SimpleSequentialChain"
   ]
  },
  {
   "cell_type": "code",
   "execution_count": 8,
   "metadata": {},
   "outputs": [
    {
     "name": "stdout",
     "output_type": "stream",
     "text": [
      "\n",
      "\n",
      "\u001b[1m> Entering new SimpleSequentialChain chain...\u001b[0m\n",
      "\u001b[36;1m\u001b[1;3m\"DataSpeak\" or \"DataSage\"\u001b[0m\n",
      "\u001b[33;1m\u001b[1;3mDataSpeak or DataSage is a cutting-edge tech company specializing in advanced data analytics and providing actionable insights for businesses.\u001b[0m\n",
      "\n",
      "\u001b[1m> Finished chain.\u001b[0m\n"
     ]
    },
    {
     "data": {
      "text/plain": [
       "'DataSpeak or DataSage is a cutting-edge tech company specializing in advanced data analytics and providing actionable insights for businesses.'"
      ]
     },
     "execution_count": 8,
     "metadata": {},
     "output_type": "execute_result"
    }
   ],
   "source": [
    "llm = ChatOpenAI(\n",
    "    api_key = os.getenv(\"OPEN_AI_KEY\"),\n",
    "    model = os.getenv(\"LLM_MODEL\")\n",
    ")\n",
    "\n",
    "# First Chain\n",
    "prompt_1 = ChatPromptTemplate.from_template(\n",
    "    \"What is the best name to describe a company that makes {product}\"\n",
    ")\n",
    "chain_1 = LLMChain(llm=llm, prompt=prompt_1)\n",
    "\n",
    "# Second Chain\n",
    "prompt_2 = ChatPromptTemplate.from_template(\n",
    "    \"write a 20 words description for the following company: {company}\"\n",
    ")\n",
    "chain_2 = LLMChain(llm=llm, prompt=prompt_2)\n",
    "\n",
    "# Join chains\n",
    "full_chain = SimpleSequentialChain(chains=[chain_1, chain_2], verbose=True)\n",
    "full_chain.run(\"podcast about data science in typical real life scenarios\")"
   ]
  },
  {
   "cell_type": "markdown",
   "metadata": {},
   "source": [
    "## 2) Sequential Chain\n",
    "multiple Input multiple output"
   ]
  },
  {
   "cell_type": "code",
   "execution_count": 10,
   "metadata": {},
   "outputs": [],
   "source": [
    "from langchain.chat_models import ChatOpenAI\n",
    "from langchain.prompts import ChatPromptTemplate\n",
    "from langchain.chains import SequentialChain"
   ]
  },
  {
   "cell_type": "code",
   "execution_count": 13,
   "metadata": {},
   "outputs": [
    {
     "name": "stdout",
     "output_type": "stream",
     "text": [
      "\n",
      "\n",
      "\u001b[1m> Entering new SequentialChain chain...\u001b[0m\n",
      "\n",
      "\u001b[1m> Finished chain.\u001b[0m\n"
     ]
    },
    {
     "data": {
      "text/plain": [
       "{'product': 'podcast about data science in typical real life scenarios',\n",
       " 'name': '\"DataSage\"',\n",
       " 'description': 'DataSage: A cutting-edge data analytics company providing businesses with advanced insights and solutions to drive growth and maximize efficiency.',\n",
       " 'slogan': '\"Unlocking the Power of Data Science, One Story at a Time!\"',\n",
       " 'items': \"1. Expert Interviews: The company offers podcast episodes featuring interviews with leading data science professionals and industry experts. These interviews cover a wide range of real-life scenarios and discuss how data science is applied in various industries such as healthcare, finance, marketing, and more. Listeners can gain insights into the challenges faced, practical solutions employed, and the impact of data science in solving complex problems.\\n\\n2. Case Studies: The podcast also presents detailed case studies that dive into real-life data science projects. These case studies explore how data science techniques were employed to analyze large datasets, identify patterns, make predictions, and derive actionable insights. Listeners can learn about the methodologies used, the data sources involved, and the outcomes achieved, providing them with practical examples of how data science is applied in real-world scenarios.\\n\\n3. Practical Tips and Techniques: In addition to interviews and case studies, the company's podcast offers episodes dedicated to sharing practical tips and techniques related to data science. These episodes cover topics such as data cleaning, feature engineering, model selection, evaluation metrics, and data visualization. Listeners can learn best practices, key considerations, and useful tools and resources that can assist them in their own data science projects. The focus is on providing actionable advice that can be applied in real-life scenarios, helping listeners enhance their data science skills and knowledge.\",\n",
       " 'ad': 'Unlock the Power of Data Science with DataSage!\\n\\nAre you looking to dive into the world of data science and uncover its potential? Look no further than DataSage! We are here to empower you with expert insights, real-life case studies, and practical tips and techniques through our captivating podcast episodes.\\n\\nExperience the thrill of learning from leading data science professionals and industry experts with our Expert Interviews. Gain valuable insights into how data science is applied in healthcare, finance, marketing, and more. Explore real-life scenarios and discover the challenges faced, practical solutions employed, and the impact of data science in solving complex problems.\\n\\nDelve into the world of data science with our detailed Case Studies. Learn how data science techniques were employed to analyze large datasets, identify patterns, make predictions, and derive actionable insights. Explore the methodologies used, the data sources involved, and the outcomes achieved. Get inspired by practical examples of data science in action.\\n\\nEquip yourself with the knowledge and skills needed to excel in data science with our Practical Tips and Techniques episodes. Discover best practices, key considerations, and useful tools and resources that can enhance your data science projects. From data cleaning to model selection, our actionable advice can be applied in real-life scenarios, helping you enhance your data science skills and knowledge.\\n\\nUnlock the power of data science, one story at a time, with DataSage! Join us on our podcast and embark on a journey to unlock the endless possibilities that data science offers. Visit our website or search for \"DataSage\" on your favorite podcast platform to start your data science adventure today!'}"
      ]
     },
     "execution_count": 13,
     "metadata": {},
     "output_type": "execute_result"
    }
   ],
   "source": [
    "llm = ChatOpenAI(\n",
    "    api_key = os.getenv(\"OPEN_AI_KEY\"),\n",
    "    model = os.getenv(\"LLM_MODEL\")\n",
    ")\n",
    "\n",
    "# First Chain\n",
    "prompt_1 = ChatPromptTemplate.from_template(\n",
    "    \"What is the best name to describe a company that makes {product}\"\n",
    ")\n",
    "chain_1 = LLMChain(llm=llm, prompt=prompt_1, output_key=\"name\")\n",
    "\n",
    "# Second Chain\n",
    "prompt_2 = ChatPromptTemplate.from_template(\n",
    "    \"write a 20 words description for the following company: {name}\"\n",
    ")\n",
    "chain_2 = LLMChain(llm=llm, prompt=prompt_2, output_key=\"description\")\n",
    "\n",
    "# Third Chain\n",
    "prompt_3 = ChatPromptTemplate.from_template(\n",
    "    \"Create a Slogan for a company named '{name}' that is specialized in: {product}\"\n",
    ")\n",
    "chain_3 = LLMChain(llm=llm, prompt=prompt_3, output_key=\"slogan\")\n",
    "\n",
    "# Fourth Chain\n",
    "prompt_4 = ChatPromptTemplate.from_template(\n",
    "    \"Make a list of 3 items offered by a company that do {product}\"\n",
    ")\n",
    "chain_4 = LLMChain(llm=llm, prompt=prompt_4, output_key=\"items\")\n",
    "\n",
    "# fifth Chain\n",
    "prompt_5 = ChatPromptTemplate.from_template(\n",
    "    \"Make a short text for an advertizement for the company '{name}' ({slogan}) that offers {items} \"\n",
    ")\n",
    "chain_5 = LLMChain(llm=llm, prompt=prompt_5, output_key=\"ad\")\n",
    "\n",
    "\n",
    "\n",
    "# Join chains\n",
    "full_chain = SequentialChain(\n",
    "    chains=[chain_1, chain_2,chain_3,chain_4,chain_5],\n",
    "    input_variables=[\"product\"],\n",
    "    output_variables=[\"name\", \"description\",\"slogan\",\"items\",\"ad\"],\n",
    "    verbose=True\n",
    ")\n",
    "full_chain(\"podcast about data science in typical real life scenarios\")\n"
   ]
  },
  {
   "cell_type": "markdown",
   "metadata": {},
   "source": [
    "## 3) Router Chain\n",
    "Address the result of a prompt to a specific chain"
   ]
  },
  {
   "cell_type": "code",
   "execution_count": 40,
   "metadata": {},
   "outputs": [],
   "source": [
    "from langchain.chat_models import ChatOpenAI\n",
    "from langchain.prompts import ChatPromptTemplate, PromptTemplate\n",
    "from langchain.chains.router.llm_router import LLMRouterChain, RouterOutputParser\n",
    "from langchain.chains.router import MultiPromptChain\n",
    "from langchain.chains import LLMChain"
   ]
  },
  {
   "cell_type": "code",
   "execution_count": 32,
   "metadata": {},
   "outputs": [],
   "source": [
    "physics_template = \"\"\"You are a very smart physics professor. \\\n",
    "You are great at answering questions about physics in a concise\\\n",
    "and easy to understand manner. \\\n",
    "When you don't know the answer to a question you admit\\\n",
    "that you don't know.\n",
    "\n",
    "Here is a question:\n",
    "{input}\"\"\"\n",
    "\n",
    "\n",
    "math_template = \"\"\"You are a very good mathematician. \\\n",
    "You are great at answering math questions. \\\n",
    "You are so good because you are able to break down \\\n",
    "hard problems into their component parts, \n",
    "answer the component parts, and then put them together\\\n",
    "to answer the broader question.\n",
    "\n",
    "Here is a question:\n",
    "{input}\"\"\"\n",
    "\n",
    "history_template = \"\"\"You are a very good historian. \\\n",
    "You have an excellent knowledge of and understanding of people,\\\n",
    "events and contexts from a range of historical periods. \\\n",
    "You have the ability to think, reflect, debate, discuss and \\\n",
    "evaluate the past. You have a respect for historical evidence\\\n",
    "and the ability to make use of it to support your explanations \\\n",
    "and judgements.\n",
    "\n",
    "Here is a question:\n",
    "{input}\"\"\"\n",
    "\n",
    "\n",
    "computerscience_template = \"\"\" You are a successful computer scientist.\\\n",
    "You have a passion for creativity, collaboration,\\\n",
    "forward-thinking, confidence, strong problem-solving capabilities,\\\n",
    "understanding of theories and algorithms, and excellent communication \\\n",
    "skills. You are great at answering coding questions. \\\n",
    "You are so good because you know how to solve a problem by \\\n",
    "describing the solution in imperative steps \\\n",
    "that a machine can easily interpret and you know how to \\\n",
    "choose a solution that has a good balance between \\\n",
    "time complexity and space complexity. \n",
    "\n",
    "Here is a question:\n",
    "{input}\"\"\""
   ]
  },
  {
   "cell_type": "code",
   "execution_count": 33,
   "metadata": {},
   "outputs": [],
   "source": [
    "prompt_infos = [\n",
    "    {\n",
    "        \"name\": \"physics\", \n",
    "        \"description\": \"Good for answering questions about physics\", \n",
    "        \"prompt_template\": physics_template\n",
    "    },\n",
    "    {\n",
    "        \"name\": \"math\", \n",
    "        \"description\": \"Good for answering math questions\", \n",
    "        \"prompt_template\": math_template\n",
    "    },\n",
    "    {\n",
    "        \"name\": \"History\", \n",
    "        \"description\": \"Good for answering history questions\", \n",
    "        \"prompt_template\": history_template\n",
    "    },\n",
    "    {\n",
    "        \"name\": \"computer science\", \n",
    "        \"description\": \"Good for answering computer science questions\", \n",
    "        \"prompt_template\": computerscience_template\n",
    "    }\n",
    "]"
   ]
  },
  {
   "cell_type": "code",
   "execution_count": 34,
   "metadata": {},
   "outputs": [],
   "source": [
    "llm = ChatOpenAI(\n",
    "    api_key = os.getenv(\"OPEN_AI_KEY\"),\n",
    "    model = os.getenv(\"LLM_MODEL\")\n",
    ")"
   ]
  },
  {
   "cell_type": "code",
   "execution_count": 44,
   "metadata": {},
   "outputs": [],
   "source": [
    "destination_chains = {}\n",
    "destinations = []\n",
    "\n",
    "for e in prompt_infos:\n",
    "    name = e[\"name\"]\n",
    "    template = e[\"prompt_template\"]\n",
    "    description = e[\"description\"]\n",
    "    prompt = ChatPromptTemplate.from_template(template)\n",
    "    chain = LLMChain(llm=llm, prompt=prompt)\n",
    "    destination_chains[name] = chain\n",
    "    destinations.append(f\"{name}: {description}\")\n",
    "\n",
    "default_prompt = ChatPromptTemplate.from_template(\"{input}\")\n",
    "default_chain = LLMChain(llm=llm, prompt=default_prompt)\n",
    "\n",
    "destinations_str = \"\\n\".join(destinations)\n",
    "    "
   ]
  },
  {
   "cell_type": "code",
   "execution_count": 51,
   "metadata": {},
   "outputs": [],
   "source": [
    "MULTI_PROMPT_ROUTER_TEMPLATE = \"\"\"\n",
    "Given a raw text input to a language model select the model prompt best suited for the input. You will be given the names of the available prompts and a description of what the prompt is best suited for. You may also revise the original input if you think that revising it will ultimately lead to a better response from the language model.\n",
    "\n",
    "<< FORMATTING >>\n",
    "Return a markdown code snippet with a JSON object formatted to look like:\n",
    "```json\n",
    "{{{{\n",
    "    \"destination\": string \\ name of the prompt to use or \"DEFAULT\"\n",
    "    \"next_inputs\": string \\ a potentially modified version of the original input\n",
    "}}}}```\n",
    "\n",
    "\n",
    "REMEMBER: \"destination\" MUST be one of the candidate prompt names specified below OR it can be \"DEFAULT\" if the input is not well suited for any of the candidate prompts.\n",
    "REMEMBER: \"next_inputs\" can just be the original input if you don't think any modifications are needed.\n",
    "\n",
    "<< CANDIDATE PROMPTS >>\n",
    "{destinations}\n",
    "\n",
    "<< INPUT >>\n",
    "{{input}}\n",
    "\n",
    "<< OUTPUT (remember to include the ```json)>>\"\"\""
   ]
  },
  {
   "cell_type": "code",
   "execution_count": 52,
   "metadata": {},
   "outputs": [],
   "source": [
    "router_template = MULTI_PROMPT_ROUTER_TEMPLATE.format(destinations=destinations_str)\n",
    "router_prompt = PromptTemplate(\n",
    "    template=router_template,\n",
    "    input_variables=[\"input\"],\n",
    "    output_parser=RouterOutputParser()\n",
    ")\n",
    "\n",
    "router_chain = LLMRouterChain.from_llm(llm=llm, prompt=router_prompt)"
   ]
  },
  {
   "cell_type": "code",
   "execution_count": 54,
   "metadata": {},
   "outputs": [],
   "source": [
    "chain = MultiPromptChain(\n",
    "    router_chain=router_chain,\n",
    "    destination_chains=destination_chains,\n",
    "    default_chain=default_chain\n",
    ")"
   ]
  },
  {
   "cell_type": "code",
   "execution_count": 55,
   "metadata": {},
   "outputs": [
    {
     "name": "stderr",
     "output_type": "stream",
     "text": [
      "c:\\Users\\crisi\\Documents\\AI Courses\\langchain\\.venv\\lib\\site-packages\\langchain\\chains\\llm.py:321: UserWarning: The predict_and_parse method is deprecated, instead pass an output parser directly to LLMChain.\n",
      "  warnings.warn(\n"
     ]
    },
    {
     "data": {
      "text/plain": [
       "'General relativity and special relativity are both theories proposed by Albert Einstein to describe the nature of gravity and the behavior of objects in different frames of reference. \\n\\nSpecial relativity, also known as the theory of special relativity, applies to situations where there is no acceleration or gravitational force involved. It deals with the behavior of objects moving at constant speeds relative to each other. Special relativity introduces the concept of spacetime, where space and time are intertwined, and the laws of physics are the same for all observers in uniform motion. It also introduces the famous equation E=mc², which relates energy (E) and mass (m).\\n\\nOn the other hand, general relativity is an extension of special relativity that includes gravity. It describes the force of gravity as the curvature of spacetime caused by mass and energy. In general relativity, the presence of mass and energy warps the fabric of spacetime, and objects move along curved paths in response to this curvature. General relativity provides a more complete understanding of gravity compared to classical physics, as it explains phenomena such as the bending of light around massive objects and the existence of black holes.\\n\\nIn summary, special relativity deals with objects in uniform motion and introduces the concept of spacetime, while general relativity extends special relativity to include gravity and describes it as the curvature of spacetime caused by mass and energy.'"
      ]
     },
     "execution_count": 55,
     "metadata": {},
     "output_type": "execute_result"
    }
   ],
   "source": [
    "chain.run(\"What is the difference between general and Specific Relativity?\")"
   ]
  }
 ],
 "metadata": {
  "kernelspec": {
   "display_name": ".venv",
   "language": "python",
   "name": "python3"
  },
  "language_info": {
   "codemirror_mode": {
    "name": "ipython",
    "version": 3
   },
   "file_extension": ".py",
   "mimetype": "text/x-python",
   "name": "python",
   "nbconvert_exporter": "python",
   "pygments_lexer": "ipython3",
   "version": "3.9.6"
  }
 },
 "nbformat": 4,
 "nbformat_minor": 2
}
