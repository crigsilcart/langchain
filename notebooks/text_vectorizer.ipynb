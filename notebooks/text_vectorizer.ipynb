{
 "cells": [
  {
   "cell_type": "code",
   "execution_count": 20,
   "metadata": {},
   "outputs": [
    {
     "name": "stdout",
     "output_type": "stream",
     "text": [
      "  (0, 9)\t0.25\n",
      "  (0, 0)\t0.25\n",
      "  (0, 4)\t0.25\n",
      "  (0, 1)\t0.25\n",
      "  (0, 5)\t0.25\n",
      "  (0, 2)\t0.5\n",
      "  (0, 7)\t0.25\n",
      "  (0, 6)\t0.5\n",
      "  (0, 3)\t0.25\n",
      "  (0, 8)\t0.25\n"
     ]
    }
   ],
   "source": [
    "import numpy as np\n",
    "from sklearn.feature_extraction.text import TfidfVectorizer\n",
    "\n",
    "# Create a list of texts\n",
    "texts = [\"This is a sample text for NLP, enjoy it as a sample for you\"]\n",
    "\n",
    "# Create a TF-IDF vectorizer\n",
    "vectorizer = TfidfVectorizer()\n",
    "\n",
    "# Transform the texts into vectors\n",
    "X = vectorizer.fit_transform(texts)\n",
    "\n",
    "# Print the vector for the first text\n",
    "print(X)\n"
   ]
  },
  {
   "cell_type": "code",
   "execution_count": 13,
   "metadata": {},
   "outputs": [
    {
     "name": "stdout",
     "output_type": "stream",
     "text": [
      "  (0, 5)\t0.4082482904638631\n",
      "  (0, 4)\t0.4082482904638631\n",
      "  (0, 3)\t0.4082482904638631\n",
      "  (0, 2)\t0.4082482904638631\n",
      "  (0, 1)\t0.4082482904638631\n",
      "  (0, 0)\t0.4082482904638631\n"
     ]
    }
   ],
   "source": [
    "# Transform the texts into a matrix of vectors\n",
    "X = vectorizer.transform(texts)\n",
    "\n",
    "# Print the matrix of vectors\n",
    "print(X)\n"
   ]
  }
 ],
 "metadata": {
  "kernelspec": {
   "display_name": ".venv",
   "language": "python",
   "name": "python3"
  },
  "language_info": {
   "codemirror_mode": {
    "name": "ipython",
    "version": 3
   },
   "file_extension": ".py",
   "mimetype": "text/x-python",
   "name": "python",
   "nbconvert_exporter": "python",
   "pygments_lexer": "ipython3",
   "version": "3.9.6"
  }
 },
 "nbformat": 4,
 "nbformat_minor": 2
}
